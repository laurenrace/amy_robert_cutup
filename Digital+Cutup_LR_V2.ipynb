{
 "cells": [
  {
   "cell_type": "code",
   "execution_count": 2,
   "metadata": {},
   "outputs": [
    {
     "data": {
      "text/plain": [
       "['It\\'s been said one is the loneliest number. I\\'ve said it and then I\\'ve agreed with myself. But you know what I\\'ve come to realize? Being alone is some of the best time I\\'ve ever spent with me. And I\\'ve learned anything a couple can do, is twice as much fun when you do it alone. \"Cooking For One\", tonight on a very special \"At Home with Amy Sedaris\".\\n',\n",
       " '\\n',\n",
       " 'Hello. I\\'m Amy Sedaris and welcome to my hit show \"At Home with Amy Sedaris\". Anybody who knows me knows that I never wear fitted jeans, I was a girl scout for way too long, and I\\'m involved heavily in the House Rabbit Society. But they also know I love to entertain and what does entertaining mean? I believe it\\'s the giving of myself to you, from me, for us. And when it comes to hospitality, I\\'ve settled on a certain way of doing things. It might not be the most proper way or the most traditional, or even the most legal. But it works for me. And now, it can work for you. Now, if there\\'s one thing I\\'ve learned: you can\\'t entertain without guests and when it comes to guests, I\\'m my favorite. I like the sound of my voice, I dress appropriately, and I always show up with something in my hand. That\\'s why tonight, I\\'m cooking for one and I\\'m not alone at being alone. Because so many of you people out there dine solo or, as the French say, \"El fresco\".\\n',\n",
       " '\\n',\n",
       " 'I think it\\'s good for a person to be alone. It gives them an opportunity to discover who they are and figure out why they\\'re always alone. People are alone for many reasons: they\\'ve lost a loved one, or going through a break up, fell down a well, or if they\\'re like me, are alone by choice. I\\'ve come to learn I don\\'t need to fill up every moment of my day with companionship or warm, human interaction. I don\\'t need to be gently caressed while he whispers those sweet, tender words in my ear: \"I love you, Amy and you\\'ll never be alone.\" Well I am alone and he\\'s a liar. But you know what? Being alone is a-ok! Tonight we\\'ll plan, prepare, and serve a meal for one. First, let\\'s find out what\\'s on the menu or, as I like to say, the me-nu. We\\'ll be making steak au poivre for one, half-baked potato, and a single side salad.\\n',\n",
       " '\\n',\n",
       " \"Baking a potato seems relatively simple. But should you wrap it in foil, rub it with lard? I prefer placing it on a hot rack right after stabbing it with a fork repeatedly, like you might a hairdresser who cut your bangs too short. Now, what you're gonna do is you're gonna turn the temperature on 400. But first, let's get this meatloaf out of the way. Just as raw as when I put it in. Place your potato right in the middle of the rack, set your time for 60 minutes or 10 minutes per ounce potato. You know, it's funny. One of my favorite kitchen tools is the timer. It's as crucial to a chef as a hammer is to a carpenter or a prosthetic arm is to a lion tamer. A timer focuses on the time, so you can focus on more important things like where is that maddening ticking coming from? You know, cooking for yourself is not the only way to spoil the hot lady in the mirror. While we wait for our potato, I'm gonna give you a glimpse into how I start my mornings. And you will see that just because you're alone, it doesn't mean you can't be pampered. Roll it, Smokey.\\n\",\n",
       " '\\n',\n",
       " \"When I step out of the shower, I have a little routine that helps me swing into action so I'm ready to face the challenges of the day. I give myself a mini massage, using the balls of my fingers and the tips of my hands. I start with a papaya emollient, coupled with a ginseng balm, focusing on all my nooks and crannies and digging deep into the many crevices. By doing this massage every day, I'm staying in touch with my body and learning all sorts of new things about myself, such as when did that happen, why is that there, and where was I? To me this stretch is so delightfully satisfying. I call it landstroking: tugging and toeing the body is the perfect remedy to this long haul we call life. As you breathe in, drive your tailbone deep into the floorboards. Now release your breath, pinching your stomach inward towards your spine, arching, always arching. Now anchor your hips off the floor, rotating the pelvic bone counter clockwise and rolling down, giving special attention to your pubis. Sway the hips like a pendulum in a grandfather clock. Mmmm, feel all that tension just evaporate away. After your earlier shower and light workout, another great time killer is taking a bath. Sometimes I'll soak in the tub for hours, or until the mailman comes. It's simple to make a bath special. Add a few thirsty towels, fragrant salts and scented oils are a nice touch, or a simple sachet made from stuffing oatmeal into a knee high stocking and cinching it off at the top. If you're feeling peckish, add brown sugar to taste and top it off with dried cranberries. Mmmm decadence. In the past, experts believed that a person lost interest in sex when they no longer had a partner. But now we know that just isn't true. If you can accept the unavoidable physical changes of being alone, like hunch face or old maid's knees, I believe you can keep romance in your life. Here's how I do it. I make sure to maintain a certain amount of mystery. I like to surprise myself by really pushing the envelope. And I'm often startled by my sheer disregard for social norms. But tomorrow, I'll forgive myself and do it all over again.\\n\",\n",
       " '\\n',\n",
       " 'I hope you\\'ve enjoyed my journey of self discovery and solo awareness. You know, I find the best part of steak au poivre is the poivre. And here to teach us how to make it is a real, live chef. Panos Sakas, the owner and operator of Pete\\'s Diner! Welcome to my show or should I say \"Ti Kaneis?\".\\n',\n",
       " 'Panos: Glad to be here, more coffee?\\n',\n",
       " \"Amy: I'm not even holding a cup!\\n\",\n",
       " 'Panos: Oh, sorry, force of habit.\\n',\n",
       " 'Amy: Now, Panos, is a poivre traditional to the Greeks the way paella is to the Spaniards?\\n',\n",
       " 'Panos: No, but we love to dip our wick into a lot of different cuisines. My menu has 19 pages, not including specials. In this diner business you need to hedge your bets. By the way, we also do paella.\\n',\n",
       " \"Amy: I have a diner question- I get asked this a lot in my viewer mail. Is it true that diner mints are coated in urine and there's human feces on the bar fruit.\\n\",\n",
       " \"Panos: It's a diner! If there are not food with feces on it, all we'd have left is feces.\\n\",\n",
       " \"Amy: Fair enough! Ok, I say let's make steak au poivre. Ok, I have my steak marinating right here.\\n\",\n",
       " 'Panos: Never marinate a steak before you au poivre!\\n',\n",
       " \"Amy: Well let's solve that problem right now, shall we? So Panos, why don't you take us through the ingredients now.\\n\",\n",
       " 'Panos: A dash of salt, a quarter cup of whole black pepper corns.\\n',\n",
       " 'Amy: Which, eventually, we crush with a hammer.\\n',\n",
       " \"Panos: You don't have a pepper grinder?\\n\",\n",
       " \"Amy: No, I do, it's just holding up a shelf.\\n\",\n",
       " 'Panos: Ah, a tablespoon of vegetable oil, a half cup of finely cut shallots, a half stick of butter, three quarter cup of heavy cream, and one cup of brandy.\\n',\n",
       " 'Amy: Ok, two questions, second one first: I think we can safely assume that many of my audience are recovering alcoholics. Will a brandy reduction break their sobriety?\\n',\n",
       " \"Panos: No, the alcohol burns off in high heat- I wouldn't worry about it.\\n\",\n",
       " \"Amy: I wasn't worried about it, I was simply asking for the benefit of my audience. Now, it's clear they can consume all the alcohol they want and get behind the wheel of a car as long as the booze has been cooked. So I don't need any panicky phone calls from nosey sponsors. Ok, now for my first question. How many does your recipe serve?\\n\",\n",
       " 'Panos: Two.\\n',\n",
       " \"Amy: Well tonight we're cooking for one so we're gonna have to half your recipe. See, okay you said quarter cup of peppercorns, so we'll make that two, right? Stick of that, divide that by four. Can you half a dash?\\n\",\n",
       " 'Panos: I shrug.\\n',\n",
       " \"Amy: Hmmm ok, well the butter should be easy, it's have a stick. I keep butter in a tub. So I could shape that into a stick and quarter it or half the number and convert it to tub. This is ridiculous. Why don't I run these calculations by my show accountant. He's a wizard with numbers. Barry, can you do half a stick of butter from a tub conversion? Great, I'll see you at the company picnic. Okay, half a stick equals a quarter tub. This is going to be the perfect topper for my meal for one.\\n\",\n",
       " \"Panos: One? I can't believe an attractive woman who smells of hours of bath doesn't have a special someone to make meals for.\\n\",\n",
       " \"Amy: Nope, I'm happily alone.\\n\",\n",
       " \"Panos: Huh, instead of halving recipe, going through all that trouble, why don't I hang out and cook au poivre for two?\\n\",\n",
       " \"Amy: I'm taken aback, that sounds like fun.\\n\",\n",
       " \"Panos: Great, well why don't I go freshen up and by that I mean give the old sac a spritz and I'll come back when the soup's on.\\n\",\n",
       " \"Amy: Panos Sakas, everybody. I'm in looooooooove!\\n\",\n",
       " '\\n',\n",
       " \"Amy: If you're just joining me, the theme of tonight's show is cooking for one, or rather, was. I'd like to say to all the single losers watching the show, I have someone special in my life now and it feels terrific. So if you're cooking for one, you're on your own. I'm tossing out the old menu because it felt lonely and creating a fresh menu based on my new theme. Because my special guest is Greek, I'll be making spanakopita, which turns out to be one of my specialties. Spanakopita, or Greek spinach pie is a dish I've made hundreds of times. I could make it blindfolded. And to prove it, I'll make it blindfolded. Attach my blindfold. What I meant to say, is that I've made spanakopita so many times, I can do it with one hand tied behind my back. Anyway, I have a bowl of spinach thawing in the refrigerator. Mmmm I love the smell of fresh spinach. Okay, our first step is to drain the spinach. Unfortunately, my colander is out of commission because I cut a piece out to patch my screen door. It sure will be nice to have a man around the house. But not to worry because we'll just improvise. Now on this stool we'll make a great strainer, I'll show you how. Puja! There we go. This is Puja, my show assistant. Help me move this stool over. Fantastic, there you go. Now we're going to attach cheese cloth to the legs. Puja will you grab a cheese cloth from the drawer please? Aren't these just adorable, guys? These are chair socks that I got on a solo overseas trip to Tokyo. They protect the ends of the legs and keep them toasty. So we're gonna attach the cheese cloth to the legs using rubber bands. Alright, so did you see the first segment of the show? What did you think of Panos Sakas and did you hear he's staying for dinner.\\n\",\n",
       " 'Puja: Oh do you mean that old bald guy?\\n',\n",
       " \"Amy: You know, I don't know why I confide in you. I hired you for your old world charm and frankly right now, I 'm finding that very tiresome. And there you have it, the perfect stool strainer. Thank you Puja now why don't you just clock out, but don't leave. Now what we're gonna do, is you're gonna add a bowl underneath the cheese cloth, dump your spinach, there you go, and then the water will drain into the bowl. Now, what I like to do, is place this in my refrigerator overnight. Easy peasy. There you have it. When we return, an old friend will be out here to help me finish my spanakopita for my very special dinner date.\\n\",\n",
       " '\\n',\n",
       " \"In a moment, an old friend of the show Chassie Tucker, a pastry chef, will be out here to help me butter my sheets. To do this, we're gonna use a simple brush that you can find at any hardware store. Please welcome Chassie Tucker.\\n\",\n",
       " 'Chassie: Ding dong!\\n',\n",
       " 'Amy: Hi and welcome to my show.\\n',\n",
       " \"Chassie: Oh I'm thrilled to be here. Hey, you're glowing. I want what you've taken in addition to what I've already taken.\\n\",\n",
       " \"Amy: Well I'm in love.\\n\",\n",
       " 'Chassie: What do you mean?\\n',\n",
       " \"Amy: Here, I'll show you.\\n\",\n",
       " \"Chassie: Now I get it. I'm very happy for you.\\n\",\n",
       " \"Amy: Okay, so what we're going to be doing is, we're going to be laying out the phyllo and buttering each individual layer. Now, I just wanna start out by saying that a lot of people are intimidated by phyllo and if this is the case for you, I think you should pick up a copy of my latest book 'Me Talk Phyllo One Day'.\\n\",\n",
       " \"Chassie: It's a great summer read.\\n\",\n",
       " \"Amy: Oh thank you Chassie! Why don't you tell the audience how we met?\\n\",\n",
       " 'Chassie: Well, I used to own a pastry shop that was dangerously close to the river and you were catering a luncheon.\\n',\n",
       " 'Amy: Seminar for the House Rabbit Society\\n',\n",
       " \"Chassie: That's right and your oven broke and you came in desperate for 40 profiteroles.\\n\",\n",
       " 'Amy: And you were wearing half a bra and had blood on your shoes.\\n',\n",
       " \"Chassie: Funny enough, it wasn't my blood or my bra.\\n\",\n",
       " \"Amy: Okay the thing about phyllo is that you wanna keep it moist, so you can keep applying moisture to it between two cotton towels. Okay and if it tears, it's okay because you can just throw it in, piece it together, there you go I think I lost my brush. Now I've added a little olive oil to my butter to make the crust extra flakey. You can also use poultry sheers to cut down the phyllo to match your pan but I like the overlay, it give it a nice little edge. Now, Smokey, I hope you're getting a good shot of this because we're really laying it on thick. Beautiful. Perfect. I would like to thank my friend Chassie Tucker for stopping by.\\n\",\n",
       " \"Chassie: I'm happy to do it. Ta ta!\\n\",\n",
       " 'Amy: Bye! Before I head over to my craft room, I always like to have a quick check in with our regional wine expert, Ronnie.\\n',\n",
       " 'Ronnie: Yoohoo!\\n',\n",
       " 'Amy: Regional wine lady, thanks for joining us.\\n',\n",
       " 'Ronnie: Boy! Your face looks like a mid priced rosé.\\n',\n",
       " 'Amy: I met someone.\\n',\n",
       " \"Ronnie: What's he do for money?\\n\",\n",
       " 'Amy: He operates a diner.\\n',\n",
       " \"Ronnie: So he's Greek. Greek! You know they're not known for their wines. I'd steer clear. I'd serve ouzo on the rocks. Now it's gonna get cloudy but don't panic, it's just the anise oil. I'd serve it with three kalamata olives, but if you're drinking it on an empty stomach, I'd add a sprig of souvlaki.\\n\",\n",
       " 'Amy: Perfect!\\n',\n",
       " \"Ronnie: Speaking of Greece, I'll be in Delphi for the Hellenistic wine fest. You know what the oracle predicts? I'll be loaded. It's Friday night, I'm gonna get drunk, I'm gonna get laid, I'm gonna be late on Monday. Toodaloo!\\n\",\n",
       " '\\n',\n",
       " \"Amy: Oh, hello! I was just attaching these googly eyes to this peanut shell. You know, it's often been said that ugly people craft and attractive people have sex. I'm not gonna waste my time dispelling that ridiculous fact. But you know something, regardless of how you look, there is no denying the joy of crafting. This is Crafting Corner. Beads and things and glitter and strings, glue and sew and buttons and bows. Tonight, placemats. Placemats can pep up any table as well as protect most surfaces. Placemats with food images are good for illiterate people because it allows them to simply point to the food that they want. Of course it gets confusing if they're asking for another placemat. Today, we'll be making Greek placemats. Greek placemats will be the perfect compliment to my Greek sandal centerpiece. We will need two items: heavy duty packing tape, Greek coins know as the drachma. You remember my assistant Puja. Thank you Puja. Okay first of all, we're going to roll out a foot and a half of tape, sticky side up. Puja, tape please. Okay, now what we're gonna do... I love packing tape. Crafting and packing tape, those are my favorite mediums to work in. Okay, let's see, okay we're gonna lay this out sticky side out, see Puja could you fix that please, that'd be terrific. You can go to any packing store to get this tape. Kay, now you're gonna lay, again, the sticky side up on the edge of the first piece to create what we call a seam, kay. What we're doing actually, I don't know if you can get this Smokey, is we're actually laying out... kay we'll just fix that, it's easy, the beauty about tape is that you can just go over it, especially the clear tape. Could you not make that noise while I'm talking, that would be terrific. Okay, alright, thank you. I am, again, the seams. Now what you're gonna do, is you're gonna place the Greek coin, known as the drachma, like  so. You can do any kind of random design you want. You want to help me with this or is this your break? Goodness gracious, okay. There you have it. Alright now, you're gonna line it, more tape on top. Terrific. Okay. Like this, see what we're doing here? Okay, no, you're doing a great job. It's a 24 and a half minute show.\\n\",\n",
       " 'Puja: Sorry\\n',\n",
       " \"Amy: Oh my god. Why don't we just... this is enough, okay? Um, but anyway, it might be helpful to find someone who knows how to use tape, right? That's a real time killer right there. And here's a finished product. You know, Puja, why don't you take this and study it? You're single, you should have plenty of time.\\n\",\n",
       " 'Puja: Okay\\n',\n",
       " 'Amy: Alright? When we return, a romantic dinner for two.\\n',\n",
       " '\\n',\n",
       " \"Amy: Welcome back. While I wait for my guest to arrive, I'll describe my table. At one end is a tray of spanakopita. On the other end, dotting the table like the Greek Isles, are an assortment of flavorful Grecian cheeses. We have a Greek salad and, of course, the lovely placemats that we made earlier. And in the center of the table, to tie it all together, a mound of white sand topped off with a size 5 Greek sandal and a string of wooden worry beads. Perfect. I've already made the plates, Hercules here is strumming what I best describe as a string gourd, but he calls it a bouzouki. For dessert, an assortment of Greek cookies, waiting to be consumed. They are from my favorite local bakery, the Yeast Confection. Okay, dinner is ready. Any word from my guest? How about some fun facts about Greece. For punishment in many ancient Greek schools, they would make destructive students kneel on rocks, many Greeks aren't circumcised. That's what I know about Greece. Still no word from...\\n\",\n",
       " \"Hercules: He's not coming.\\n\",\n",
       " \"Amy: Oh he's coming. We made a connection.\\n\",\n",
       " 'Hercules: I think he made another connection.\\n',\n",
       " \"Amy: What?! I can't believe it, he was all over me in that segment! Would you please stop playing that bouzouki, it's tedious. I'm just gonna scrape these plates, right now, just gimme those, gimme those, give it to me, ridiculous. I went through all this trouble.\\n\",\n",
       " '\\n',\n",
       " \"Amy: At the end of every show, I like to write in my party log, which details all the hits and misses. We've been on quite an emotional roller coaster ride and we've learned a few things along the way. Hits: ouzo kills feelings. Misses: bouzouki, never marinate a steak, and never trust a lady saxophone player. They tend to be heroin addicts and they will steal your man. You know, I was gonna end my romantic Greek dinner by performing a special Greek dance for my guest. But now, I'm gonna perform a special Greek dance for someone I really care about: me. And by the way, the theme of tonight's show: dancing for one. Goodnight!\\n\"]"
      ]
     },
     "execution_count": 2,
     "metadata": {},
     "output_type": "execute_result"
    }
   ],
   "source": [
    "[line for line in open(\"amysedaris.txt\")]"
   ]
  },
  {
   "cell_type": "code",
   "execution_count": 6,
   "metadata": {},
   "outputs": [],
   "source": [
    "amy = [line.strip() for line in open(\"amysedaris.txt\")]"
   ]
  },
  {
   "cell_type": "markdown",
   "metadata": {},
   "source": [
    "Reduce text down to lines that are equal to or shorter than the longest line of Frost"
   ]
  },
  {
   "cell_type": "code",
   "execution_count": 7,
   "metadata": {
    "collapsed": true
   },
   "outputs": [],
   "source": [
    "shortamy = [line for line in amy if len(line) <= 39]"
   ]
  },
  {
   "cell_type": "code",
   "execution_count": 8,
   "metadata": {},
   "outputs": [
    {
     "data": {
      "text/plain": [
       "['',\n",
       " '',\n",
       " '',\n",
       " '',\n",
       " '',\n",
       " 'Panos: Glad to be here, more coffee?',\n",
       " \"Amy: I'm not even holding a cup!\",\n",
       " 'Panos: Oh, sorry, force of habit.',\n",
       " \"Panos: You don't have a pepper grinder?\",\n",
       " 'Panos: Two.',\n",
       " 'Panos: I shrug.',\n",
       " \"Amy: Nope, I'm happily alone.\",\n",
       " '',\n",
       " 'Puja: Oh do you mean that old bald guy?',\n",
       " '',\n",
       " 'Chassie: Ding dong!',\n",
       " 'Amy: Hi and welcome to my show.',\n",
       " \"Amy: Well I'm in love.\",\n",
       " 'Chassie: What do you mean?',\n",
       " \"Amy: Here, I'll show you.\",\n",
       " \"Chassie: It's a great summer read.\",\n",
       " \"Chassie: I'm happy to do it. Ta ta!\",\n",
       " 'Ronnie: Yoohoo!',\n",
       " 'Amy: I met someone.',\n",
       " \"Ronnie: What's he do for money?\",\n",
       " 'Amy: He operates a diner.',\n",
       " 'Amy: Perfect!',\n",
       " '',\n",
       " 'Puja: Sorry',\n",
       " 'Puja: Okay',\n",
       " '',\n",
       " \"Hercules: He's not coming.\",\n",
       " '']"
      ]
     },
     "execution_count": 8,
     "metadata": {},
     "output_type": "execute_result"
    }
   ],
   "source": [
    "shortamy"
   ]
  },
  {
   "cell_type": "code",
   "execution_count": 11,
   "metadata": {
    "collapsed": true
   },
   "outputs": [],
   "source": [
    "stripamy = [line.strip(\"Panos\") for line in shortamy]"
   ]
  },
  {
   "cell_type": "code",
   "execution_count": 12,
   "metadata": {},
   "outputs": [
    {
     "data": {
      "text/plain": [
       "['',\n",
       " '',\n",
       " '',\n",
       " '',\n",
       " '',\n",
       " ': Glad to be here, more coffee?',\n",
       " \"Amy: I'm not even holding a cup!\",\n",
       " ': Oh, sorry, force of habit.',\n",
       " \": You don't have a pepper grinder?\",\n",
       " ': Two.',\n",
       " ': I shrug.',\n",
       " \"Amy: Nope, I'm happily alone.\",\n",
       " '',\n",
       " 'uja: Oh do you mean that old bald guy?',\n",
       " '',\n",
       " 'Chassie: Ding dong!',\n",
       " 'Amy: Hi and welcome to my show.',\n",
       " \"Amy: Well I'm in love.\",\n",
       " 'Chassie: What do you mean?',\n",
       " \"Amy: Here, I'll show you.\",\n",
       " \"Chassie: It's a great summer read.\",\n",
       " \"Chassie: I'm happy to do it. Ta ta!\",\n",
       " 'Ronnie: Yoohoo!',\n",
       " 'Amy: I met someone.',\n",
       " \"Ronnie: What's he do for money?\",\n",
       " 'Amy: He operates a diner.',\n",
       " 'Amy: Perfect!',\n",
       " '',\n",
       " 'uja: Sorry',\n",
       " 'uja: Okay',\n",
       " '',\n",
       " \"Hercules: He's not coming.\",\n",
       " '']"
      ]
     },
     "execution_count": 12,
     "metadata": {},
     "output_type": "execute_result"
    }
   ],
   "source": [
    "stripamy"
   ]
  },
  {
   "cell_type": "code",
   "execution_count": 14,
   "metadata": {},
   "outputs": [],
   "source": [
    "noamy = [line.strip(\"Amy\") for line in stripamy]"
   ]
  },
  {
   "cell_type": "code",
   "execution_count": 15,
   "metadata": {},
   "outputs": [
    {
     "data": {
      "text/plain": [
       "['',\n",
       " '',\n",
       " '',\n",
       " '',\n",
       " '',\n",
       " ': Glad to be here, more coffee?',\n",
       " \": I'm not even holding a cup!\",\n",
       " ': Oh, sorry, force of habit.',\n",
       " \": You don't have a pepper grinder?\",\n",
       " ': Two.',\n",
       " ': I shrug.',\n",
       " \": Nope, I'm happily alone.\",\n",
       " '',\n",
       " 'uja: Oh do you mean that old bald guy?',\n",
       " '',\n",
       " 'Chassie: Ding dong!',\n",
       " ': Hi and welcome to my show.',\n",
       " \": Well I'm in love.\",\n",
       " 'Chassie: What do you mean?',\n",
       " \": Here, I'll show you.\",\n",
       " \"Chassie: It's a great summer read.\",\n",
       " \"Chassie: I'm happy to do it. Ta ta!\",\n",
       " 'Ronnie: Yoohoo!',\n",
       " ': I met someone.',\n",
       " \"Ronnie: What's he do for money?\",\n",
       " ': He operates a diner.',\n",
       " ': Perfect!',\n",
       " '',\n",
       " 'uja: Sorr',\n",
       " 'uja: Oka',\n",
       " '',\n",
       " \"Hercules: He's not coming.\",\n",
       " '']"
      ]
     },
     "execution_count": 15,
     "metadata": {},
     "output_type": "execute_result"
    }
   ],
   "source": [
    "noamy"
   ]
  },
  {
   "cell_type": "code",
   "execution_count": 16,
   "metadata": {},
   "outputs": [],
   "source": [
    "nochassie = [line.strip(\"Chassie\") for line in noamy]"
   ]
  },
  {
   "cell_type": "code",
   "execution_count": 17,
   "metadata": {},
   "outputs": [
    {
     "data": {
      "text/plain": [
       "['',\n",
       " '',\n",
       " '',\n",
       " '',\n",
       " '',\n",
       " ': Glad to be here, more coffee?',\n",
       " \": I'm not even holding a cup!\",\n",
       " ': Oh, sorry, force of habit.',\n",
       " \": You don't have a pepper grinder?\",\n",
       " ': Two.',\n",
       " ': I shrug.',\n",
       " \": Nope, I'm happily alone.\",\n",
       " '',\n",
       " 'uja: Oh do you mean that old bald guy?',\n",
       " '',\n",
       " ': Ding dong!',\n",
       " ': Hi and welcome to my show.',\n",
       " \": Well I'm in love.\",\n",
       " ': What do you mean?',\n",
       " \": Here, I'll show you.\",\n",
       " \": It's a great summer read.\",\n",
       " \": I'm happy to do it. Ta ta!\",\n",
       " 'Ronnie: Yoohoo!',\n",
       " ': I met someone.',\n",
       " \"Ronnie: What's he do for money?\",\n",
       " ': He operates a diner.',\n",
       " ': Perfect!',\n",
       " '',\n",
       " 'uja: Sorr',\n",
       " 'uja: Ok',\n",
       " '',\n",
       " \"Hercules: He's not coming.\",\n",
       " '']"
      ]
     },
     "execution_count": 17,
     "metadata": {},
     "output_type": "execute_result"
    }
   ],
   "source": [
    "nochassie"
   ]
  },
  {
   "cell_type": "code",
   "execution_count": 24,
   "metadata": {
    "collapsed": true
   },
   "outputs": [],
   "source": [
    "stripsyntax = [line.strip(\"': ,\") for line in nochassie]"
   ]
  },
  {
   "cell_type": "code",
   "execution_count": 25,
   "metadata": {},
   "outputs": [
    {
     "data": {
      "text/plain": [
       "['',\n",
       " '',\n",
       " '',\n",
       " '',\n",
       " '',\n",
       " 'Glad to be here, more coffee?',\n",
       " \"I'm not even holding a cup!\",\n",
       " 'Oh, sorry, force of habit.',\n",
       " \"You don't have a pepper grinder?\",\n",
       " 'Two.',\n",
       " 'I shrug.',\n",
       " \"Nope, I'm happily alone.\",\n",
       " '',\n",
       " 'uja: Oh do you mean that old bald guy?',\n",
       " '',\n",
       " 'Ding dong!',\n",
       " 'Hi and welcome to my show.',\n",
       " \"Well I'm in love.\",\n",
       " 'What do you mean?',\n",
       " \"Here, I'll show you.\",\n",
       " \"It's a great summer read.\",\n",
       " \"I'm happy to do it. Ta ta!\",\n",
       " 'Ronnie: Yoohoo!',\n",
       " 'I met someone.',\n",
       " \"Ronnie: What's he do for money?\",\n",
       " 'He operates a diner.',\n",
       " 'Perfect!',\n",
       " '',\n",
       " 'uja: Sorr',\n",
       " 'uja: Ok',\n",
       " '',\n",
       " \"Hercules: He's not coming.\",\n",
       " '']"
      ]
     },
     "execution_count": 25,
     "metadata": {},
     "output_type": "execute_result"
    }
   ],
   "source": [
    "stripsyntax"
   ]
  },
  {
   "cell_type": "code",
   "execution_count": 26,
   "metadata": {
    "collapsed": true
   },
   "outputs": [],
   "source": [
    "noronnie = [line.strip(\"Ronnie:\") for line in stripsyntax]"
   ]
  },
  {
   "cell_type": "code",
   "execution_count": 27,
   "metadata": {},
   "outputs": [
    {
     "data": {
      "text/plain": [
       "['',\n",
       " '',\n",
       " '',\n",
       " '',\n",
       " '',\n",
       " 'Glad to be here, more coffee?',\n",
       " \"I'm not even holding a cup!\",\n",
       " 'Oh, sorry, force of habit.',\n",
       " \"You don't have a pepper grinder?\",\n",
       " 'Two.',\n",
       " 'I shrug.',\n",
       " \"Nope, I'm happily alone.\",\n",
       " '',\n",
       " 'uja: Oh do you mean that old bald guy?',\n",
       " '',\n",
       " 'Ding dong!',\n",
       " 'Hi and welcome to my show.',\n",
       " \"Well I'm in love.\",\n",
       " 'What do you mean?',\n",
       " \"Here, I'll show you.\",\n",
       " \"It's a great summer read.\",\n",
       " \"I'm happy to do it. Ta ta!\",\n",
       " ' Yoohoo!',\n",
       " 'I met someone.',\n",
       " \" What's he do for money?\",\n",
       " 'He operates a diner.',\n",
       " 'Perfect!',\n",
       " '',\n",
       " 'uja: Sorr',\n",
       " 'uja: Ok',\n",
       " '',\n",
       " \"Hercules: He's not coming.\",\n",
       " '']"
      ]
     },
     "execution_count": 27,
     "metadata": {},
     "output_type": "execute_result"
    }
   ],
   "source": [
    "noronnie"
   ]
  },
  {
   "cell_type": "code",
   "execution_count": 28,
   "metadata": {
    "collapsed": true
   },
   "outputs": [],
   "source": [
    "nopuja = [line.strip(\"uja\") for line in noronnie]"
   ]
  },
  {
   "cell_type": "code",
   "execution_count": 29,
   "metadata": {},
   "outputs": [
    {
     "data": {
      "text/plain": [
       "['',\n",
       " '',\n",
       " '',\n",
       " '',\n",
       " '',\n",
       " 'Glad to be here, more coffee?',\n",
       " \"I'm not even holding a cup!\",\n",
       " 'Oh, sorry, force of habit.',\n",
       " \"You don't have a pepper grinder?\",\n",
       " 'Two.',\n",
       " 'I shrug.',\n",
       " \"Nope, I'm happily alone.\",\n",
       " '',\n",
       " ': Oh do you mean that old bald guy?',\n",
       " '',\n",
       " 'Ding dong!',\n",
       " 'Hi and welcome to my show.',\n",
       " \"Well I'm in love.\",\n",
       " 'What do you mean?',\n",
       " \"Here, I'll show you.\",\n",
       " \"It's a great summer read.\",\n",
       " \"I'm happy to do it. Ta ta!\",\n",
       " ' Yoohoo!',\n",
       " 'I met someone.',\n",
       " \" What's he do for money?\",\n",
       " 'He operates a diner.',\n",
       " 'Perfect!',\n",
       " '',\n",
       " ': Sorr',\n",
       " ': Ok',\n",
       " '',\n",
       " \"Hercules: He's not coming.\",\n",
       " '']"
      ]
     },
     "execution_count": 29,
     "metadata": {},
     "output_type": "execute_result"
    }
   ],
   "source": [
    "nopuja"
   ]
  },
  {
   "cell_type": "code",
   "execution_count": 30,
   "metadata": {
    "collapsed": true
   },
   "outputs": [],
   "source": [
    "nohercules = [line.strip(\"Hercules:\") for line in nopuja]"
   ]
  },
  {
   "cell_type": "code",
   "execution_count": 31,
   "metadata": {},
   "outputs": [
    {
     "data": {
      "text/plain": [
       "['',\n",
       " '',\n",
       " '',\n",
       " '',\n",
       " '',\n",
       " 'Glad to be here, more coffee?',\n",
       " \"I'm not even holding a cup!\",\n",
       " 'Oh, sorry, force of habit.',\n",
       " \"You don't have a pepper grinder?\",\n",
       " 'Two.',\n",
       " 'I shrug.',\n",
       " \"Nope, I'm happily alone.\",\n",
       " '',\n",
       " ' Oh do you mean that old bald guy?',\n",
       " '',\n",
       " 'Ding dong!',\n",
       " 'i and welcome to my show.',\n",
       " \"Well I'm in love.\",\n",
       " 'What do you mean?',\n",
       " \", I'll show you.\",\n",
       " \"It's a great summer read.\",\n",
       " \"I'm happy to do it. Ta ta!\",\n",
       " ' Yoohoo!',\n",
       " 'I met someone.',\n",
       " \" What's he do for money?\",\n",
       " ' operates a diner.',\n",
       " 'Perfect!',\n",
       " '',\n",
       " ' So',\n",
       " ' Ok',\n",
       " '',\n",
       " \" He's not coming.\",\n",
       " '']"
      ]
     },
     "execution_count": 31,
     "metadata": {},
     "output_type": "execute_result"
    }
   ],
   "source": [
    "nohercules"
   ]
  },
  {
   "cell_type": "code",
   "execution_count": 32,
   "metadata": {
    "collapsed": true
   },
   "outputs": [],
   "source": [
    "removespaces = [line.strip(\" \") for line in nohercules]"
   ]
  },
  {
   "cell_type": "code",
   "execution_count": 33,
   "metadata": {},
   "outputs": [
    {
     "data": {
      "text/plain": [
       "['',\n",
       " '',\n",
       " '',\n",
       " '',\n",
       " '',\n",
       " 'Glad to be here, more coffee?',\n",
       " \"I'm not even holding a cup!\",\n",
       " 'Oh, sorry, force of habit.',\n",
       " \"You don't have a pepper grinder?\",\n",
       " 'Two.',\n",
       " 'I shrug.',\n",
       " \"Nope, I'm happily alone.\",\n",
       " '',\n",
       " 'Oh do you mean that old bald guy?',\n",
       " '',\n",
       " 'Ding dong!',\n",
       " 'i and welcome to my show.',\n",
       " \"Well I'm in love.\",\n",
       " 'What do you mean?',\n",
       " \", I'll show you.\",\n",
       " \"It's a great summer read.\",\n",
       " \"I'm happy to do it. Ta ta!\",\n",
       " 'Yoohoo!',\n",
       " 'I met someone.',\n",
       " \"What's he do for money?\",\n",
       " 'operates a diner.',\n",
       " 'Perfect!',\n",
       " '',\n",
       " 'So',\n",
       " 'Ok',\n",
       " '',\n",
       " \"He's not coming.\",\n",
       " '']"
      ]
     },
     "execution_count": 33,
     "metadata": {},
     "output_type": "execute_result"
    }
   ],
   "source": [
    "removespaces"
   ]
  },
  {
   "cell_type": "code",
   "execution_count": 75,
   "metadata": {},
   "outputs": [],
   "source": [
    "shortenedamy = removespaces[5:25]"
   ]
  },
  {
   "cell_type": "code",
   "execution_count": 76,
   "metadata": {},
   "outputs": [
    {
     "data": {
      "text/plain": [
       "['Glad to be here, more coffee?',\n",
       " \"I'm not even holding a cup!\",\n",
       " 'Oh, sorry, force of habit.',\n",
       " \"You don't have a pepper grinder?\",\n",
       " 'Two.',\n",
       " 'I shrug.',\n",
       " \"Nope, I'm happily alone.\",\n",
       " '',\n",
       " 'Oh do you mean that old bald guy?',\n",
       " '',\n",
       " 'Ding dong!',\n",
       " 'i and welcome to my show.',\n",
       " \"Well I'm in love.\",\n",
       " 'What do you mean?',\n",
       " \", I'll show you.\",\n",
       " \"It's a great summer read.\",\n",
       " \"I'm happy to do it. Ta ta!\",\n",
       " 'Yoohoo!',\n",
       " 'I met someone.',\n",
       " \"What's he do for money?\"]"
      ]
     },
     "execution_count": 76,
     "metadata": {},
     "output_type": "execute_result"
    }
   ],
   "source": [
    "shortenedamy"
   ]
  },
  {
   "cell_type": "code",
   "execution_count": 77,
   "metadata": {
    "collapsed": true
   },
   "outputs": [],
   "source": [
    "sortedamy = sorted(shortenedamy)"
   ]
  },
  {
   "cell_type": "code",
   "execution_count": 78,
   "metadata": {},
   "outputs": [
    {
     "data": {
      "text/plain": [
       "['',\n",
       " '',\n",
       " \", I'll show you.\",\n",
       " 'Ding dong!',\n",
       " 'Glad to be here, more coffee?',\n",
       " 'I met someone.',\n",
       " 'I shrug.',\n",
       " \"I'm happy to do it. Ta ta!\",\n",
       " \"I'm not even holding a cup!\",\n",
       " \"It's a great summer read.\",\n",
       " \"Nope, I'm happily alone.\",\n",
       " 'Oh do you mean that old bald guy?',\n",
       " 'Oh, sorry, force of habit.',\n",
       " 'Two.',\n",
       " \"Well I'm in love.\",\n",
       " 'What do you mean?',\n",
       " \"What's he do for money?\",\n",
       " 'Yoohoo!',\n",
       " \"You don't have a pepper grinder?\",\n",
       " 'i and welcome to my show.']"
      ]
     },
     "execution_count": 78,
     "metadata": {},
     "output_type": "execute_result"
    }
   ],
   "source": [
    "sortedamy"
   ]
  },
  {
   "cell_type": "code",
   "execution_count": 79,
   "metadata": {},
   "outputs": [],
   "source": [
    "import random\n",
    "amysample = random.sample(sortedamy, 19)"
   ]
  },
  {
   "cell_type": "code",
   "execution_count": 80,
   "metadata": {
    "scrolled": true
   },
   "outputs": [
    {
     "data": {
      "text/plain": [
       "[\"Well I'm in love.\",\n",
       " 'What do you mean?',\n",
       " 'Yoohoo!',\n",
       " \"I'm happy to do it. Ta ta!\",\n",
       " 'Glad to be here, more coffee?',\n",
       " 'I shrug.',\n",
       " 'Oh, sorry, force of habit.',\n",
       " 'Two.',\n",
       " \", I'll show you.\",\n",
       " '',\n",
       " \"You don't have a pepper grinder?\",\n",
       " 'I met someone.',\n",
       " \"Nope, I'm happily alone.\",\n",
       " 'Ding dong!',\n",
       " '',\n",
       " 'Oh do you mean that old bald guy?',\n",
       " \"I'm not even holding a cup!\",\n",
       " \"It's a great summer read.\",\n",
       " \"What's he do for money?\"]"
      ]
     },
     "execution_count": 80,
     "metadata": {},
     "output_type": "execute_result"
    }
   ],
   "source": [
    "amysample"
   ]
  },
  {
   "cell_type": "code",
   "execution_count": 81,
   "metadata": {},
   "outputs": [],
   "source": [
    "frost = [line.strip() for line in open(\"frost.txt\")]"
   ]
  },
  {
   "cell_type": "code",
   "execution_count": 82,
   "metadata": {},
   "outputs": [
    {
     "data": {
      "text/plain": [
       "['Two roads diverged in a yellow wood,',\n",
       " 'And sorry I could not travel both',\n",
       " 'And be one traveler, long I stood',\n",
       " 'And looked down one as far as I could',\n",
       " 'To where it bent in the undergrowth;',\n",
       " '',\n",
       " 'Then took the other, as just as fair,',\n",
       " 'And having perhaps the better claim,',\n",
       " 'Because it was grassy and wanted wear;',\n",
       " 'Though as for that the passing there',\n",
       " 'Had worn them really about the same,',\n",
       " '',\n",
       " 'And both that morning equally lay',\n",
       " 'In leaves no step had trodden black.',\n",
       " 'Oh, I kept the first for another day!',\n",
       " 'Yet knowing how way leads on to way,',\n",
       " 'I doubted if I should ever come back.',\n",
       " '',\n",
       " 'I shall be telling this with a sigh',\n",
       " 'Somewhere ages and ages hence:',\n",
       " 'Two roads diverged in a wood, and I---',\n",
       " 'I took the one less travelled by,',\n",
       " 'And that has made all the difference.']"
      ]
     },
     "execution_count": 82,
     "metadata": {},
     "output_type": "execute_result"
    }
   ],
   "source": [
    "frost"
   ]
  },
  {
   "cell_type": "code",
   "execution_count": 83,
   "metadata": {
    "collapsed": true
   },
   "outputs": [],
   "source": [
    "import random\n",
    "newpoem = random.sample(amysample, 10) + random.sample(frost, 10)"
   ]
  },
  {
   "cell_type": "code",
   "execution_count": 84,
   "metadata": {},
   "outputs": [
    {
     "data": {
      "text/plain": [
       "['Two.',\n",
       " 'What do you mean?',\n",
       " \"I'm happy to do it. Ta ta!\",\n",
       " 'Oh, sorry, force of habit.',\n",
       " \"I'm not even holding a cup!\",\n",
       " 'I shrug.',\n",
       " \"You don't have a pepper grinder?\",\n",
       " \"It's a great summer read.\",\n",
       " 'Yoohoo!',\n",
       " 'I met someone.',\n",
       " '',\n",
       " 'Though as for that the passing there',\n",
       " 'Yet knowing how way leads on to way,',\n",
       " 'And having perhaps the better claim,',\n",
       " '',\n",
       " 'I shall be telling this with a sigh',\n",
       " 'And sorry I could not travel both',\n",
       " 'And be one traveler, long I stood',\n",
       " 'I took the one less travelled by,',\n",
       " 'To where it bent in the undergrowth;']"
      ]
     },
     "execution_count": 84,
     "metadata": {},
     "output_type": "execute_result"
    }
   ],
   "source": [
    "newpoem"
   ]
  },
  {
   "cell_type": "code",
   "execution_count": 102,
   "metadata": {},
   "outputs": [],
   "source": [
    "blendedpoem = sorted(newpoem)"
   ]
  },
  {
   "cell_type": "code",
   "execution_count": 103,
   "metadata": {},
   "outputs": [
    {
     "data": {
      "text/plain": [
       "['',\n",
       " '',\n",
       " 'And be one traveler, long I stood',\n",
       " 'And having perhaps the better claim,',\n",
       " 'And sorry I could not travel both',\n",
       " 'I met someone.',\n",
       " 'I shall be telling this with a sigh',\n",
       " 'I shrug.',\n",
       " 'I took the one less travelled by,',\n",
       " \"I'm happy to do it. Ta ta!\",\n",
       " \"I'm not even holding a cup!\",\n",
       " \"It's a great summer read.\",\n",
       " 'Oh, sorry, force of habit.',\n",
       " 'Though as for that the passing there',\n",
       " 'To where it bent in the undergrowth;',\n",
       " 'Two.',\n",
       " 'What do you mean?',\n",
       " 'Yet knowing how way leads on to way,',\n",
       " 'Yoohoo!',\n",
       " \"You don't have a pepper grinder?\"]"
      ]
     },
     "execution_count": 103,
     "metadata": {},
     "output_type": "execute_result"
    }
   ],
   "source": [
    "blendedpoem"
   ]
  }
 ],
 "metadata": {
  "kernelspec": {
   "display_name": "Python 3",
   "language": "python",
   "name": "python3"
  },
  "language_info": {
   "codemirror_mode": {
    "name": "ipython",
    "version": 3
   },
   "file_extension": ".py",
   "mimetype": "text/x-python",
   "name": "python",
   "nbconvert_exporter": "python",
   "pygments_lexer": "ipython3",
   "version": "3.6.3"
  }
 },
 "nbformat": 4,
 "nbformat_minor": 2
}
